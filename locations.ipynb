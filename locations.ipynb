{
 "cells": [
  {
   "cell_type": "code",
   "execution_count": null,
   "metadata": {},
   "outputs": [],
   "source": [
    "import openpyxl as oxl\n",
    "from hpath_backend import excel as xl"
   ]
  },
  {
   "cell_type": "code",
   "execution_count": null,
   "metadata": {},
   "outputs": [],
   "source": [
    "wbook = oxl.load_workbook('../frontend/static/examples/config.xlsx', data_only=True)"
   ]
  },
  {
   "cell_type": "code",
   "execution_count": null,
   "metadata": {},
   "outputs": [],
   "source": [
    "data = xl.get_named_matrix(wbook, index_name='LocationNames', data_name='RunnerTimes')"
   ]
  },
  {
   "cell_type": "code",
   "execution_count": null,
   "metadata": {},
   "outputs": [],
   "source": [
    "import pandas as pd"
   ]
  },
  {
   "cell_type": "code",
   "execution_count": null,
   "metadata": {},
   "outputs": [],
   "source": [
    "df = pd.DataFrame(data).T\n",
    "df.insert(0,'Specimen Reception', float('nan'))\n",
    "df.fillna(0, inplace=True)\n",
    "runner_times = df + df.T\n",
    "runner_times"
   ]
  },
  {
   "cell_type": "markdown",
   "metadata": {},
   "source": [
    "## Data validation and serialisation"
   ]
  },
  {
   "cell_type": "code",
   "execution_count": null,
   "metadata": {},
   "outputs": [],
   "source": [
    "import pydantic as pyd"
   ]
  },
  {
   "cell_type": "code",
   "execution_count": null,
   "metadata": {},
   "outputs": [],
   "source": [
    "class RunnerTimeRow(pyd.BaseModel):\n",
    "    model_config = pyd.ConfigDict(populate_by_name=True)\n",
    "\n",
    "    specimen_reception: pyd.NonNegativeFloat = pyd.Field(alias='Specimen Reception')\n",
    "    lilac_room: pyd.NonNegativeFloat = pyd.Field(alias='Lilac Room')\n",
    "    white_room: pyd.NonNegativeFloat = pyd.Field(alias='White Room')\n",
    "    yellow_room: pyd.NonNegativeFloat = pyd.Field(alias='Yellow Room')\n",
    "    green_room: pyd.NonNegativeFloat = pyd.Field(alias='Green Room')\n",
    "    processing_room: pyd.NonNegativeFloat = pyd.Field(alias='Processing Room')\n",
    "    first_floor_corridor_d7: pyd.NonNegativeFloat = pyd.Field(alias='First Floor Corridor D7')\n",
    "    main_lab: pyd.NonNegativeFloat = pyd.Field(alias='Main Lab')\n",
    "    staining_room: pyd.NonNegativeFloat = pyd.Field(alias='Staining Room')\n",
    "    second_floor_landing: pyd.NonNegativeFloat = pyd.Field(alias='Second Floor Landing')\n",
    "    second_floor_lift_door: pyd.NonNegativeFloat = pyd.Field(alias='Second Floor Lift Door')\n",
    "    first_floor_landing: pyd.NonNegativeFloat = pyd.Field(alias='First Floor Landing')\n",
    "    first_floor_lift_door: pyd.NonNegativeFloat = pyd.Field(alias='First Floor Lift Door')\n",
    "    first_floor_corridor_d14: pyd.NonNegativeFloat = pyd.Field(alias='First Floor Corridor D14')\n",
    "    first_floor_corridor_d15: pyd.NonNegativeFloat = pyd.Field(alias='First Floor Corridor D15')\n",
    "    digital_pathology: pyd.NonNegativeFloat = pyd.Field(alias='Digital Pathology')\n",
    "\n",
    "class RunnerTimes(pyd.BaseModel):\n",
    "    model_config = pyd.ConfigDict(populate_by_name=True)\n",
    "\n",
    "    specimen_reception: RunnerTimeRow = pyd.Field(alias='Specimen Reception')\n",
    "    lilac_room: RunnerTimeRow = pyd.Field(alias='Lilac Room')\n",
    "    white_room: RunnerTimeRow = pyd.Field(alias='White Room')\n",
    "    yellow_room: RunnerTimeRow = pyd.Field(alias='Yellow Room')\n",
    "    green_room: RunnerTimeRow = pyd.Field(alias='Green Room')\n",
    "    processing_room: RunnerTimeRow = pyd.Field(alias='Processing Room')\n",
    "    first_floor_corridor_d7: RunnerTimeRow = pyd.Field(alias='First Floor Corridor D7')\n",
    "    main_lab: RunnerTimeRow = pyd.Field(alias='Main Lab')\n",
    "    staining_room: RunnerTimeRow = pyd.Field(alias='Staining Room')\n",
    "    second_floor_landing: RunnerTimeRow = pyd.Field(alias='Second Floor Landing')\n",
    "    second_floor_lift_door: RunnerTimeRow = pyd.Field(alias='Second Floor Lift Door')\n",
    "    first_floor_landing: RunnerTimeRow = pyd.Field(alias='First Floor Landing')\n",
    "    first_floor_lift_door: RunnerTimeRow = pyd.Field(alias='First Floor Lift Door')\n",
    "    first_floor_corridor_d14: RunnerTimeRow = pyd.Field(alias='First Floor Corridor D14')\n",
    "    first_floor_corridor_d15: RunnerTimeRow = pyd.Field(alias='First Floor Corridor D15')\n",
    "    digital_pathology: RunnerTimeRow = pyd.Field(alias='Digital Pathology')"
   ]
  },
  {
   "cell_type": "code",
   "execution_count": null,
   "metadata": {},
   "outputs": [],
   "source": [
    "runner_times_pyd = RunnerTimes(**runner_times.to_dict())"
   ]
  },
  {
   "cell_type": "code",
   "execution_count": null,
   "metadata": {},
   "outputs": [],
   "source": [
    "runner_times_pyd.main_lab.staining_room"
   ]
  },
  {
   "cell_type": "code",
   "execution_count": null,
   "metadata": {},
   "outputs": [],
   "source": [
    "runner_times_pyd.model_dump()"
   ]
  },
  {
   "cell_type": "markdown",
   "metadata": {},
   "source": [
    "## Network analysis"
   ]
  },
  {
   "cell_type": "code",
   "execution_count": null,
   "metadata": {},
   "outputs": [],
   "source": [
    "import networkx as nx"
   ]
  },
  {
   "cell_type": "code",
   "execution_count": null,
   "metadata": {},
   "outputs": [],
   "source": [
    "df2 = pd.DataFrame(runner_times_pyd.model_dump())"
   ]
  },
  {
   "cell_type": "code",
   "execution_count": null,
   "metadata": {},
   "outputs": [],
   "source": [
    "df2"
   ]
  },
  {
   "cell_type": "code",
   "execution_count": null,
   "metadata": {},
   "outputs": [],
   "source": [
    "g = nx.from_pandas_adjacency(df2)"
   ]
  },
  {
   "cell_type": "code",
   "execution_count": null,
   "metadata": {},
   "outputs": [],
   "source": [
    "list(g.nodes.items())"
   ]
  },
  {
   "cell_type": "code",
   "execution_count": null,
   "metadata": {},
   "outputs": [],
   "source": [
    "list(g.edges.items())"
   ]
  },
  {
   "cell_type": "code",
   "execution_count": null,
   "metadata": {},
   "outputs": [],
   "source": [
    "dict(nx.shortest_path_length(g, weight='weight'))"
   ]
  },
  {
   "cell_type": "code",
   "execution_count": null,
   "metadata": {},
   "outputs": [],
   "source": [
    "runner_times_paths = RunnerTimes(**dict(nx.shortest_path_length(g, weight='weight')))\n",
    "print(runner_times_paths.staining_room.main_lab)\n",
    "print(runner_times_paths.main_lab.digital_pathology)"
   ]
  },
  {
   "cell_type": "markdown",
   "metadata": {},
   "source": [
    "## Final"
   ]
  },
  {
   "cell_type": "code",
   "execution_count": null,
   "metadata": {},
   "outputs": [],
   "source": [
    "df = pd.DataFrame(data).T\n",
    "df.insert(0,'Specimen Reception', float('nan'))\n",
    "df.fillna(0, inplace=True)\n",
    "runner_times = df + df.T\n",
    "g = nx.from_pandas_adjacency(runner_times)\n",
    "runner_times_paths = RunnerTimes(**dict(nx.shortest_path_length(g, weight='weight')))"
   ]
  },
  {
   "cell_type": "code",
   "execution_count": null,
   "metadata": {},
   "outputs": [],
   "source": [
    "print(runner_times_paths.staining_room.main_lab)\n",
    "print(runner_times_paths.main_lab.digital_pathology)"
   ]
  },
  {
   "cell_type": "code",
   "execution_count": null,
   "metadata": {},
   "outputs": [],
   "source": [
    "runner_times_paths.model_dump()"
   ]
  },
  {
   "cell_type": "code",
   "execution_count": null,
   "metadata": {},
   "outputs": [],
   "source": []
  }
 ],
 "metadata": {
  "kernelspec": {
   "display_name": "digital-hospitals",
   "language": "python",
   "name": "python3"
  },
  "language_info": {
   "codemirror_mode": {
    "name": "ipython",
    "version": 3
   },
   "file_extension": ".py",
   "mimetype": "text/x-python",
   "name": "python",
   "nbconvert_exporter": "python",
   "pygments_lexer": "ipython3",
   "version": "3.11.6"
  }
 },
 "nbformat": 4,
 "nbformat_minor": 2
}
